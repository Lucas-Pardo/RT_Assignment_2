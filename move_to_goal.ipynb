{
 "cells": [
  {
   "attachments": {},
   "cell_type": "markdown",
   "metadata": {},
   "source": [
    "## Imports"
   ]
  },
  {
   "cell_type": "code",
   "execution_count": 11,
   "metadata": {},
   "outputs": [],
   "source": [
    "import rospy\n",
    "from actionlib import SimpleActionClient\n",
    "import assignment_2_2022.msg\n",
    "import assignment_rt1_2.msg\n",
    "from nav_msgs.msg import Odometry\n",
    "import assignment_rt1_2.srv\n",
    "import ipywidgets as widgets\n",
    "from threading import Thread\n",
    "from math import sqrt\n",
    "import matplotlib.pyplot as plt\n",
    "#from time import sleep\n",
    "#from jupyros.ros1 import ros3d\n"
   ]
  },
  {
   "attachments": {},
   "cell_type": "markdown",
   "metadata": {},
   "source": [
    "## Controller"
   ]
  },
  {
   "cell_type": "code",
   "execution_count": 12,
   "metadata": {},
   "outputs": [],
   "source": [
    "class Controller:\n",
    "    \n",
    "    def __init__(self, goal_x: float = 0, goal_y: float = 0, r: int = 5) -> None:\n",
    "        # Variables\n",
    "        self.x = 0\n",
    "        self.y = 1\n",
    "        self.vel_x = 0\n",
    "        self.vel_y = 0\n",
    "        self.goal_x = goal_x\n",
    "        self.goal_y = goal_y\n",
    "        self.r = rospy.Rate(r)\n",
    "        self.finished = False\n",
    "        self.cancelled = False\n",
    "        self.status_msg = assignment_rt1_2.msg.RobotStatus()\n",
    "        self.status_msg.goal_x = self.goal_x\n",
    "        self.status_msg.goal_y = self.goal_y\n",
    "        self.gr = 0\n",
    "        self.gc = 0\n",
    "        self.x_hist = []\n",
    "        self.y_hist = []\n",
    "        self.hist_threshold = .001\n",
    "        \n",
    "        # Action client\n",
    "        self.action_client = SimpleActionClient(\"/reaching_goal\", assignment_2_2022.msg.PlanningAction)\n",
    "        print(\"Waiting for action server.\")\n",
    "        self.action_client.wait_for_server()\n",
    "        print(\"Action server started.\")\n",
    "        \n",
    "        # Publisher\n",
    "        self.pub = rospy.Publisher(\"/robot/status\", assignment_rt1_2.msg.RobotStatus, queue_size=10)\n",
    "        \n",
    "        # Subscriber\n",
    "        rospy.Subscriber(\"/odom\", Odometry, self.get_status)\n",
    "        \n",
    "        # Service client\n",
    "        self.service = rospy.ServiceProxy(\"/goals\", assignment_rt1_2.srv.Goals)\n",
    "     \n",
    "        \n",
    "    def get_status(self, msg: Odometry):\n",
    "        \n",
    "        # Update variables\n",
    "        self.x = msg.pose.pose.position.x\n",
    "        self.y = msg.pose.pose.position.y\n",
    "        self.vel_x = msg.twist.twist.linear.x\n",
    "        self.vel_y = msg.twist.twist.linear.y\n",
    "        if len(self.x_hist) == 0 or abs(self.x_hist[-1] - self.x) > self.hist_threshold or \\\n",
    "        len(self.y_hist) == 0 or abs(self.y_hist[-1] - self.y) > self.hist_threshold:\n",
    "            self.x_hist.append(self.x)\n",
    "            self.y_hist.append(self.y)\n",
    "            \n",
    "        \n",
    "        # Change robot status msg\n",
    "        self.status_msg.x = self.x\n",
    "        self.status_msg.y = self.y\n",
    "        self.status_msg.vel_x = self.vel_x\n",
    "        self.status_msg.vel_y = self.vel_y\n",
    "        \n",
    "    \n",
    "    def send_goal(self, x: float = None, y: float = None):\n",
    "        self.finished = False\n",
    "        \n",
    "        if x is not None:\n",
    "            self.goal_x = x\n",
    "            self.status_msg.goal_x = x\n",
    "        if y is not None:\n",
    "            self.goal_y = y\n",
    "            self.status_msg.goal_y = y\n",
    "        \n",
    "        goal = assignment_2_2022.msg.PlanningGoal()\n",
    "        goal.target_pose.pose.position.x = self.goal_x\n",
    "        goal.target_pose.pose.position.y = self.goal_y\n",
    "        \n",
    "        self.action_client.send_goal(goal)\n",
    "        print(\"Goal sent.\")\n",
    "        self.cancelled = False\n",
    "        # self.spin()\n",
    "        thread = Thread(target=self.spin)\n",
    "        thread.start()\n",
    "        \n",
    "    \n",
    "    def spin(self):\n",
    "        self.finished = self.action_client.wait_for_result(self.r.remaining())\n",
    "        while (not self.finished and not rospy.is_shutdown()):\n",
    "            \n",
    "            # rospy default behaviour is to spinOnce in a while loop.\n",
    "            self.pub.publish(self.status_msg)\n",
    "            \n",
    "            # Wait for finish status\n",
    "            self.finished = self.action_client.wait_for_result(self.r.remaining())\n",
    "        \n",
    "        if not self.cancelled:\n",
    "            print(\"Goal reached.\")\n",
    "            self.gr += 1\n",
    "            rospy.set_param(\"/goals_reached\", self.gr)\n",
    "            \n",
    "        # Call service\n",
    "        # self.service.call(assignment_rt1_2.srv.GoalsRequest())\n",
    "        \n",
    "            \n",
    "    def cancel(self):\n",
    "        self.action_client.cancel_goal()\n",
    "        self.cancelled = True\n",
    "        print(\"Goal cancelled.\")\n",
    "        self.gc += 1\n",
    "        rospy.set_param(\"/goals_cancelled\", self.gc)\n",
    "        \n",
    "        \n",
    "    def get_goals(self):\n",
    "        return self.gr, self.gc\n",
    "    \n",
    "    \n",
    "    def get_position(self):\n",
    "        return self.x, self.y\n",
    "    \n",
    "    \n",
    "    def get_dist(self):\n",
    "        return sqrt((self.x - self.goal_x)**2 + (self.y - self.goal_y)**2)"
   ]
  },
  {
   "attachments": {},
   "cell_type": "markdown",
   "metadata": {},
   "source": [
    "## Interactive Widgets"
   ]
  },
  {
   "cell_type": "code",
   "execution_count": 13,
   "metadata": {},
   "outputs": [
    {
     "name": "stdout",
     "output_type": "stream",
     "text": [
      "Waiting for action server.\n",
      "Action server started.\n"
     ]
    },
    {
     "name": "stdout",
     "output_type": "stream",
     "text": [
      "Goal sent.\n",
      "Goal cancelled.\n"
     ]
    }
   ],
   "source": [
    "# Initialize node\n",
    "rospy.init_node(\"Node_A\")\n",
    "\n",
    "# Goal position using float text boxes\n",
    "gx = widgets.FloatText(\n",
    "    value=4,\n",
    "    description=\"Goal x position:\",\n",
    "    disabled=False,\n",
    "    continuous_update=False\n",
    ")\n",
    "\n",
    "gy = widgets.FloatText(\n",
    "    value=-5,\n",
    "    description=\"Goal y position:\",\n",
    "    disabled=False,\n",
    "    continuous_update=False\n",
    ")\n",
    "\n",
    "# Send/Cancel goal using a toggle button\n",
    "send_button = widgets.ToggleButton(\n",
    "    value=False,\n",
    "    description=\"Run\",\n",
    "    disabled=False,\n",
    "    tooltip=\"The robot goes to the goal while the button is toggled.\",\n",
    "    button_style=\"\",\n",
    "    icon=\"compass\"\n",
    ")\n",
    "\n",
    "cancel_button = widgets.Button(\n",
    "    value=False,\n",
    "    description=\"Cancel\",\n",
    "    disabled=True,\n",
    "    tooltip=\"Cancel current goal.\",\n",
    "    button_style=\"\",\n",
    "    icon=\"cross\"\n",
    ")\n",
    "\n",
    "# Initialize controller\n",
    "cont = Controller()\n",
    "\n",
    "def wait_for_cont():\n",
    "    while not cont.finished:\n",
    "        pass\n",
    "    send_button.value = False\n",
    "    send_button.disabled = False\n",
    "    cancel_button.disabled = True\n",
    "    \n",
    "\n",
    "def toggle(change):\n",
    "    if change[\"new\"]:\n",
    "        send_button.disabled = True\n",
    "        cancel_button.disabled = False\n",
    "        cont.send_goal(gx.value, gy.value)\n",
    "        thread = Thread(target=wait_for_cont)\n",
    "        thread.start()\n",
    "        \n",
    "\n",
    "        \n",
    "def cancel_goal(b):\n",
    "    cont.cancel()\n",
    "    cancel_button.disabled = True\n",
    "\n",
    "\n",
    "# Observe changes in the button\n",
    "send_button.observe(toggle, \"value\")\n",
    "cancel_button.on_click(cancel_goal)\n",
    "\n",
    "\n",
    "interactive_widgets = widgets.HBox([widgets.VBox([gx, gy]), widgets.VBox([send_button, cancel_button])])"
   ]
  },
  {
   "attachments": {},
   "cell_type": "markdown",
   "metadata": {},
   "source": [
    "## Display Widgets"
   ]
  },
  {
   "attachments": {},
   "cell_type": "markdown",
   "metadata": {},
   "source": [
    "### HTML Displays"
   ]
  },
  {
   "cell_type": "code",
   "execution_count": 14,
   "metadata": {},
   "outputs": [],
   "source": [
    "title = widgets.HTML(value=\"<h1>Robot parameters</h1>\")\n",
    "robot_position_display = widgets.HTML(value=f\"<b>Robot position:</b> ({cont.x:.1f}, {cont.y:.1f})\")\n",
    "distance_display = widgets.HTML(value=\"<b>Distance to goal:</b> 0\")\n",
    "gr_display = widgets.HTML(value=\"<b>Number of goals reached:</b> 0\")\n",
    "gc_display = widgets.HTML(value=\"<b>Number of goals cancelled:</b> 0\")"
   ]
  },
  {
   "attachments": {},
   "cell_type": "markdown",
   "metadata": {},
   "source": [
    "### UI"
   ]
  },
  {
   "cell_type": "code",
   "execution_count": 15,
   "metadata": {},
   "outputs": [
    {
     "data": {
      "application/vnd.jupyter.widget-view+json": {
       "model_id": "b09082d44eba4150ac2f8c3a7845f5b1",
       "version_major": 2,
       "version_minor": 0
      },
      "text/plain": [
       "VBox(children=(HTML(value='<h1>Robot parameters</h1>'), HTML(value='<b>Robot position:</b> (-5.4, 7.7)'), HTML…"
      ]
     },
     "metadata": {},
     "output_type": "display_data"
    }
   ],
   "source": [
    "ui = widgets.VBox([title, robot_position_display, distance_display, gr_display, gc_display, interactive_widgets])\n",
    "display(ui)"
   ]
  },
  {
   "attachments": {},
   "cell_type": "markdown",
   "metadata": {},
   "source": [
    "## Path Visualization"
   ]
  },
  {
   "cell_type": "code",
   "execution_count": 16,
   "metadata": {},
   "outputs": [
    {
     "data": {
      "text/plain": [
       "Text(0, 0.5, 'y')"
      ]
     },
     "execution_count": 16,
     "metadata": {},
     "output_type": "execute_result"
    },
    {
     "data": {
      "application/vnd.jupyter.widget-view+json": {
       "model_id": "78fa403faa4242329abe5db6f4a18b5b",
       "version_major": 2,
       "version_minor": 0
      },
      "image/png": "[encoded data removed]",
      "text/html": [
       "\n",
       "            <div style=\"display: inline-block;\">\n",
       "                <div class=\"jupyter-widgets widget-label\" style=\"text-align: center;\">\n",
       "                    Figure\n",
       "                </div>\n",
       "                <img src='data:image/png;base64,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' width=640.0/>\n",
       "            </div>\n",
       "        "
      ],
      "text/plain": [
       "Canvas(toolbar=Toolbar(toolitems=[('Home', 'Reset original view', 'home', 'home'), ('Back', 'Back to previous …"
      ]
     },
     "metadata": {},
     "output_type": "display_data"
    },
    {
     "ename": "IndexError",
     "evalue": "list index out of range",
     "output_type": "error",
     "traceback": [
      "\u001b[0;31m---------------------------------------------------------------------------\u001b[0m",
      "\u001b[0;31mIndexError\u001b[0m                                Traceback (most recent call last)",
      "File \u001b[0;32m~/.local/lib/python3.8/site-packages/ipympl/backend_nbagg.py:279\u001b[0m, in \u001b[0;36mCanvas._handle_message\u001b[0;34m(self, object, content, buffers)\u001b[0m\n\u001b[1;32m    276\u001b[0m     \u001b[39mself\u001b[39m\u001b[39m.\u001b[39mmanager\u001b[39m.\u001b[39mhandle_json(content)\n\u001b[1;32m    278\u001b[0m \u001b[39melse\u001b[39;00m:\n\u001b[0;32m--> 279\u001b[0m     \u001b[39mself\u001b[39;49m\u001b[39m.\u001b[39;49mmanager\u001b[39m.\u001b[39;49mhandle_json(content)\n",
      "File \u001b[0;32m~/.local/lib/python3.8/site-packages/matplotlib/backends/backend_webagg_core.py:462\u001b[0m, in \u001b[0;36mFigureManagerWebAgg.handle_json\u001b[0;34m(self, content)\u001b[0m\n\u001b[1;32m    461\u001b[0m \u001b[39mdef\u001b[39;00m \u001b[39mhandle_json\u001b[39m(\u001b[39mself\u001b[39m, content):\n\u001b[0;32m--> 462\u001b[0m     \u001b[39mself\u001b[39;49m\u001b[39m.\u001b[39;49mcanvas\u001b[39m.\u001b[39;49mhandle_event(content)\n",
      "File \u001b[0;32m~/.local/lib/python3.8/site-packages/matplotlib/backends/backend_webagg_core.py:266\u001b[0m, in \u001b[0;36mFigureCanvasWebAggCore.handle_event\u001b[0;34m(self, event)\u001b[0m\n\u001b[1;32m    263\u001b[0m e_type \u001b[39m=\u001b[39m event[\u001b[39m'\u001b[39m\u001b[39mtype\u001b[39m\u001b[39m'\u001b[39m]\n\u001b[1;32m    264\u001b[0m handler \u001b[39m=\u001b[39m \u001b[39mgetattr\u001b[39m(\u001b[39mself\u001b[39m, \u001b[39m'\u001b[39m\u001b[39mhandle_\u001b[39m\u001b[39m{0}\u001b[39;00m\u001b[39m'\u001b[39m\u001b[39m.\u001b[39mformat(e_type),\n\u001b[1;32m    265\u001b[0m                   \u001b[39mself\u001b[39m\u001b[39m.\u001b[39mhandle_unknown_event)\n\u001b[0;32m--> 266\u001b[0m \u001b[39mreturn\u001b[39;00m handler(event)\n",
      "File \u001b[0;32m~/.local/lib/python3.8/site-packages/matplotlib/backends/backend_webagg_core.py:282\u001b[0m, in \u001b[0;36mFigureCanvasWebAggCore.handle_draw\u001b[0;34m(self, event)\u001b[0m\n\u001b[1;32m    281\u001b[0m \u001b[39mdef\u001b[39;00m \u001b[39mhandle_draw\u001b[39m(\u001b[39mself\u001b[39m, event):\n\u001b[0;32m--> 282\u001b[0m     \u001b[39mself\u001b[39;49m\u001b[39m.\u001b[39;49mdraw()\n",
      "File \u001b[0;32m~/.local/lib/python3.8/site-packages/matplotlib/backends/backend_webagg_core.py:191\u001b[0m, in \u001b[0;36mFigureCanvasWebAggCore.draw\u001b[0;34m(self)\u001b[0m\n\u001b[1;32m    189\u001b[0m \u001b[39mself\u001b[39m\u001b[39m.\u001b[39m_png_is_old \u001b[39m=\u001b[39m \u001b[39mTrue\u001b[39;00m\n\u001b[1;32m    190\u001b[0m \u001b[39mtry\u001b[39;00m:\n\u001b[0;32m--> 191\u001b[0m     \u001b[39msuper\u001b[39;49m()\u001b[39m.\u001b[39;49mdraw()\n\u001b[1;32m    192\u001b[0m \u001b[39mfinally\u001b[39;00m:\n\u001b[1;32m    193\u001b[0m     \u001b[39mself\u001b[39m\u001b[39m.\u001b[39mmanager\u001b[39m.\u001b[39mrefresh_all()\n",
      "File \u001b[0;32m~/.local/lib/python3.8/site-packages/matplotlib/backends/backend_agg.py:400\u001b[0m, in \u001b[0;36mFigureCanvasAgg.draw\u001b[0;34m(self)\u001b[0m\n\u001b[1;32m    396\u001b[0m \u001b[39m# Acquire a lock on the shared font cache.\u001b[39;00m\n\u001b[1;32m    397\u001b[0m \u001b[39mwith\u001b[39;00m RendererAgg\u001b[39m.\u001b[39mlock, \\\n\u001b[1;32m    398\u001b[0m      (\u001b[39mself\u001b[39m\u001b[39m.\u001b[39mtoolbar\u001b[39m.\u001b[39m_wait_cursor_for_draw_cm() \u001b[39mif\u001b[39;00m \u001b[39mself\u001b[39m\u001b[39m.\u001b[39mtoolbar\n\u001b[1;32m    399\u001b[0m       \u001b[39melse\u001b[39;00m nullcontext()):\n\u001b[0;32m--> 400\u001b[0m     \u001b[39mself\u001b[39;49m\u001b[39m.\u001b[39;49mfigure\u001b[39m.\u001b[39;49mdraw(\u001b[39mself\u001b[39;49m\u001b[39m.\u001b[39;49mrenderer)\n\u001b[1;32m    401\u001b[0m     \u001b[39m# A GUI class may be need to update a window using this draw, so\u001b[39;00m\n\u001b[1;32m    402\u001b[0m     \u001b[39m# don't forget to call the superclass.\u001b[39;00m\n\u001b[1;32m    403\u001b[0m     \u001b[39msuper\u001b[39m()\u001b[39m.\u001b[39mdraw()\n",
      "File \u001b[0;32m~/.local/lib/python3.8/site-packages/matplotlib/artist.py:95\u001b[0m, in \u001b[0;36m_finalize_rasterization.<locals>.draw_wrapper\u001b[0;34m(artist, renderer, *args, **kwargs)\u001b[0m\n\u001b[1;32m     93\u001b[0m \u001b[39m@wraps\u001b[39m(draw)\n\u001b[1;32m     94\u001b[0m \u001b[39mdef\u001b[39;00m \u001b[39mdraw_wrapper\u001b[39m(artist, renderer, \u001b[39m*\u001b[39margs, \u001b[39m*\u001b[39m\u001b[39m*\u001b[39mkwargs):\n\u001b[0;32m---> 95\u001b[0m     result \u001b[39m=\u001b[39m draw(artist, renderer, \u001b[39m*\u001b[39;49margs, \u001b[39m*\u001b[39;49m\u001b[39m*\u001b[39;49mkwargs)\n\u001b[1;32m     96\u001b[0m     \u001b[39mif\u001b[39;00m renderer\u001b[39m.\u001b[39m_rasterizing:\n\u001b[1;32m     97\u001b[0m         renderer\u001b[39m.\u001b[39mstop_rasterizing()\n",
      "File \u001b[0;32m~/.local/lib/python3.8/site-packages/matplotlib/artist.py:72\u001b[0m, in \u001b[0;36mallow_rasterization.<locals>.draw_wrapper\u001b[0;34m(artist, renderer)\u001b[0m\n\u001b[1;32m     69\u001b[0m     \u001b[39mif\u001b[39;00m artist\u001b[39m.\u001b[39mget_agg_filter() \u001b[39mis\u001b[39;00m \u001b[39mnot\u001b[39;00m \u001b[39mNone\u001b[39;00m:\n\u001b[1;32m     70\u001b[0m         renderer\u001b[39m.\u001b[39mstart_filter()\n\u001b[0;32m---> 72\u001b[0m     \u001b[39mreturn\u001b[39;00m draw(artist, renderer)\n\u001b[1;32m     73\u001b[0m \u001b[39mfinally\u001b[39;00m:\n\u001b[1;32m     74\u001b[0m     \u001b[39mif\u001b[39;00m artist\u001b[39m.\u001b[39mget_agg_filter() \u001b[39mis\u001b[39;00m \u001b[39mnot\u001b[39;00m \u001b[39mNone\u001b[39;00m:\n",
      "File \u001b[0;32m~/.local/lib/python3.8/site-packages/matplotlib/figure.py:3140\u001b[0m, in \u001b[0;36mFigure.draw\u001b[0;34m(self, renderer)\u001b[0m\n\u001b[1;32m   3137\u001b[0m         \u001b[39m# ValueError can occur when resizing a window.\u001b[39;00m\n\u001b[1;32m   3139\u001b[0m \u001b[39mself\u001b[39m\u001b[39m.\u001b[39mpatch\u001b[39m.\u001b[39mdraw(renderer)\n\u001b[0;32m-> 3140\u001b[0m mimage\u001b[39m.\u001b[39;49m_draw_list_compositing_images(\n\u001b[1;32m   3141\u001b[0m     renderer, \u001b[39mself\u001b[39;49m, artists, \u001b[39mself\u001b[39;49m\u001b[39m.\u001b[39;49msuppressComposite)\n\u001b[1;32m   3143\u001b[0m \u001b[39mfor\u001b[39;00m sfig \u001b[39min\u001b[39;00m \u001b[39mself\u001b[39m\u001b[39m.\u001b[39msubfigs:\n\u001b[1;32m   3144\u001b[0m     sfig\u001b[39m.\u001b[39mdraw(renderer)\n",
      "File \u001b[0;32m~/.local/lib/python3.8/site-packages/matplotlib/image.py:131\u001b[0m, in \u001b[0;36m_draw_list_compositing_images\u001b[0;34m(renderer, parent, artists, suppress_composite)\u001b[0m\n\u001b[1;32m    129\u001b[0m \u001b[39mif\u001b[39;00m not_composite \u001b[39mor\u001b[39;00m \u001b[39mnot\u001b[39;00m has_images:\n\u001b[1;32m    130\u001b[0m     \u001b[39mfor\u001b[39;00m a \u001b[39min\u001b[39;00m artists:\n\u001b[0;32m--> 131\u001b[0m         a\u001b[39m.\u001b[39;49mdraw(renderer)\n\u001b[1;32m    132\u001b[0m \u001b[39melse\u001b[39;00m:\n\u001b[1;32m    133\u001b[0m     \u001b[39m# Composite any adjacent images together\u001b[39;00m\n\u001b[1;32m    134\u001b[0m     image_group \u001b[39m=\u001b[39m []\n",
      "File \u001b[0;32m~/.local/lib/python3.8/site-packages/matplotlib/artist.py:72\u001b[0m, in \u001b[0;36mallow_rasterization.<locals>.draw_wrapper\u001b[0;34m(artist, renderer)\u001b[0m\n\u001b[1;32m     69\u001b[0m     \u001b[39mif\u001b[39;00m artist\u001b[39m.\u001b[39mget_agg_filter() \u001b[39mis\u001b[39;00m \u001b[39mnot\u001b[39;00m \u001b[39mNone\u001b[39;00m:\n\u001b[1;32m     70\u001b[0m         renderer\u001b[39m.\u001b[39mstart_filter()\n\u001b[0;32m---> 72\u001b[0m     \u001b[39mreturn\u001b[39;00m draw(artist, renderer)\n\u001b[1;32m     73\u001b[0m \u001b[39mfinally\u001b[39;00m:\n\u001b[1;32m     74\u001b[0m     \u001b[39mif\u001b[39;00m artist\u001b[39m.\u001b[39mget_agg_filter() \u001b[39mis\u001b[39;00m \u001b[39mnot\u001b[39;00m \u001b[39mNone\u001b[39;00m:\n",
      "File \u001b[0;32m~/.local/lib/python3.8/site-packages/matplotlib/axes/_base.py:3028\u001b[0m, in \u001b[0;36m_AxesBase.draw\u001b[0;34m(self, renderer)\u001b[0m\n\u001b[1;32m   3025\u001b[0m     \u001b[39mfor\u001b[39;00m spine \u001b[39min\u001b[39;00m \u001b[39mself\u001b[39m\u001b[39m.\u001b[39mspines\u001b[39m.\u001b[39mvalues():\n\u001b[1;32m   3026\u001b[0m         artists\u001b[39m.\u001b[39mremove(spine)\n\u001b[0;32m-> 3028\u001b[0m \u001b[39mself\u001b[39;49m\u001b[39m.\u001b[39;49m_update_title_position(renderer)\n\u001b[1;32m   3030\u001b[0m \u001b[39mif\u001b[39;00m \u001b[39mnot\u001b[39;00m \u001b[39mself\u001b[39m\u001b[39m.\u001b[39maxison:\n\u001b[1;32m   3031\u001b[0m     \u001b[39mfor\u001b[39;00m _axis \u001b[39min\u001b[39;00m \u001b[39mself\u001b[39m\u001b[39m.\u001b[39m_axis_map\u001b[39m.\u001b[39mvalues():\n",
      "File \u001b[0;32m~/.local/lib/python3.8/site-packages/matplotlib/axes/_base.py:2961\u001b[0m, in \u001b[0;36m_AxesBase._update_title_position\u001b[0;34m(self, renderer)\u001b[0m\n\u001b[1;32m   2959\u001b[0m \u001b[39mfor\u001b[39;00m ax \u001b[39min\u001b[39;00m axs:\n\u001b[1;32m   2960\u001b[0m     bb \u001b[39m=\u001b[39m \u001b[39mNone\u001b[39;00m\n\u001b[0;32m-> 2961\u001b[0m     \u001b[39mif\u001b[39;00m (ax\u001b[39m.\u001b[39;49mxaxis\u001b[39m.\u001b[39;49mget_ticks_position() \u001b[39min\u001b[39;00m [\u001b[39m'\u001b[39m\u001b[39mtop\u001b[39m\u001b[39m'\u001b[39m, \u001b[39m'\u001b[39m\u001b[39munknown\u001b[39m\u001b[39m'\u001b[39m]\n\u001b[1;32m   2962\u001b[0m             \u001b[39mor\u001b[39;00m ax\u001b[39m.\u001b[39mxaxis\u001b[39m.\u001b[39mget_label_position() \u001b[39m==\u001b[39m \u001b[39m'\u001b[39m\u001b[39mtop\u001b[39m\u001b[39m'\u001b[39m):\n\u001b[1;32m   2963\u001b[0m         bb \u001b[39m=\u001b[39m ax\u001b[39m.\u001b[39mxaxis\u001b[39m.\u001b[39mget_tightbbox(renderer)\n\u001b[1;32m   2964\u001b[0m     \u001b[39mif\u001b[39;00m bb \u001b[39mis\u001b[39;00m \u001b[39mNone\u001b[39;00m:\n",
      "File \u001b[0;32m~/.local/lib/python3.8/site-packages/matplotlib/axis.py:2451\u001b[0m, in \u001b[0;36mXAxis.get_ticks_position\u001b[0;34m(self)\u001b[0m\n\u001b[1;32m   2445\u001b[0m \u001b[39mdef\u001b[39;00m \u001b[39mget_ticks_position\u001b[39m(\u001b[39mself\u001b[39m):\n\u001b[1;32m   2446\u001b[0m \u001b[39m    \u001b[39m\u001b[39m\"\"\"\u001b[39;00m\n\u001b[1;32m   2447\u001b[0m \u001b[39m    Return the ticks position (\"top\", \"bottom\", \"default\", or \"unknown\").\u001b[39;00m\n\u001b[1;32m   2448\u001b[0m \u001b[39m    \"\"\"\u001b[39;00m\n\u001b[1;32m   2449\u001b[0m     \u001b[39mreturn\u001b[39;00m {\u001b[39m1\u001b[39m: \u001b[39m\"\u001b[39m\u001b[39mbottom\u001b[39m\u001b[39m\"\u001b[39m, \u001b[39m2\u001b[39m: \u001b[39m\"\u001b[39m\u001b[39mtop\u001b[39m\u001b[39m\"\u001b[39m,\n\u001b[1;32m   2450\u001b[0m             \u001b[39m\"\u001b[39m\u001b[39mdefault\u001b[39m\u001b[39m\"\u001b[39m: \u001b[39m\"\u001b[39m\u001b[39mdefault\u001b[39m\u001b[39m\"\u001b[39m, \u001b[39m\"\u001b[39m\u001b[39munknown\u001b[39m\u001b[39m\"\u001b[39m: \u001b[39m\"\u001b[39m\u001b[39munknown\u001b[39m\u001b[39m\"\u001b[39m}[\n\u001b[0;32m-> 2451\u001b[0m                 \u001b[39mself\u001b[39;49m\u001b[39m.\u001b[39;49m_get_ticks_position()]\n",
      "File \u001b[0;32m~/.local/lib/python3.8/site-packages/matplotlib/axis.py:2155\u001b[0m, in \u001b[0;36mAxis._get_ticks_position\u001b[0;34m(self)\u001b[0m\n\u001b[1;32m   2141\u001b[0m \u001b[39mdef\u001b[39;00m \u001b[39m_get_ticks_position\u001b[39m(\u001b[39mself\u001b[39m):\n\u001b[1;32m   2142\u001b[0m \u001b[39m    \u001b[39m\u001b[39m\"\"\"\u001b[39;00m\n\u001b[1;32m   2143\u001b[0m \u001b[39m    Helper for `XAxis.get_ticks_position` and `YAxis.get_ticks_position`.\u001b[39;00m\n\u001b[1;32m   2144\u001b[0m \n\u001b[0;32m   (...)\u001b[0m\n\u001b[1;32m   2153\u001b[0m \u001b[39m    - \"unknown\" otherwise.\u001b[39;00m\n\u001b[1;32m   2154\u001b[0m \u001b[39m    \"\"\"\u001b[39;00m\n\u001b[0;32m-> 2155\u001b[0m     major \u001b[39m=\u001b[39m \u001b[39mself\u001b[39;49m\u001b[39m.\u001b[39;49mmajorTicks[\u001b[39m0\u001b[39;49m]\n\u001b[1;32m   2156\u001b[0m     minor \u001b[39m=\u001b[39m \u001b[39mself\u001b[39m\u001b[39m.\u001b[39mminorTicks[\u001b[39m0\u001b[39m]\n\u001b[1;32m   2157\u001b[0m     \u001b[39mif\u001b[39;00m \u001b[39mall\u001b[39m(tick\u001b[39m.\u001b[39mtick1line\u001b[39m.\u001b[39mget_visible()\n\u001b[1;32m   2158\u001b[0m            \u001b[39mand\u001b[39;00m \u001b[39mnot\u001b[39;00m tick\u001b[39m.\u001b[39mtick2line\u001b[39m.\u001b[39mget_visible()\n\u001b[1;32m   2159\u001b[0m            \u001b[39mand\u001b[39;00m tick\u001b[39m.\u001b[39mlabel1\u001b[39m.\u001b[39mget_visible()\n\u001b[1;32m   2160\u001b[0m            \u001b[39mand\u001b[39;00m \u001b[39mnot\u001b[39;00m tick\u001b[39m.\u001b[39mlabel2\u001b[39m.\u001b[39mget_visible()\n\u001b[1;32m   2161\u001b[0m            \u001b[39mfor\u001b[39;00m tick \u001b[39min\u001b[39;00m [major, minor]):\n",
      "\u001b[0;31mIndexError\u001b[0m: list index out of range"
     ]
    },
    {
     "ename": "IndexError",
     "evalue": "list index out of range",
     "output_type": "error",
     "traceback": [
      "\u001b[0;31m---------------------------------------------------------------------------\u001b[0m",
      "\u001b[0;31mIndexError\u001b[0m                                Traceback (most recent call last)",
      "File \u001b[0;32m~/.local/lib/python3.8/site-packages/ipympl/backend_nbagg.py:279\u001b[0m, in \u001b[0;36mCanvas._handle_message\u001b[0;34m(self, object, content, buffers)\u001b[0m\n\u001b[1;32m    276\u001b[0m     \u001b[39mself\u001b[39m\u001b[39m.\u001b[39mmanager\u001b[39m.\u001b[39mhandle_json(content)\n\u001b[1;32m    278\u001b[0m \u001b[39melse\u001b[39;00m:\n\u001b[0;32m--> 279\u001b[0m     \u001b[39mself\u001b[39;49m\u001b[39m.\u001b[39;49mmanager\u001b[39m.\u001b[39;49mhandle_json(content)\n",
      "File \u001b[0;32m~/.local/lib/python3.8/site-packages/matplotlib/backends/backend_webagg_core.py:462\u001b[0m, in \u001b[0;36mFigureManagerWebAgg.handle_json\u001b[0;34m(self, content)\u001b[0m\n\u001b[1;32m    461\u001b[0m \u001b[39mdef\u001b[39;00m \u001b[39mhandle_json\u001b[39m(\u001b[39mself\u001b[39m, content):\n\u001b[0;32m--> 462\u001b[0m     \u001b[39mself\u001b[39;49m\u001b[39m.\u001b[39;49mcanvas\u001b[39m.\u001b[39;49mhandle_event(content)\n",
      "File \u001b[0;32m~/.local/lib/python3.8/site-packages/matplotlib/backends/backend_webagg_core.py:266\u001b[0m, in \u001b[0;36mFigureCanvasWebAggCore.handle_event\u001b[0;34m(self, event)\u001b[0m\n\u001b[1;32m    263\u001b[0m e_type \u001b[39m=\u001b[39m event[\u001b[39m'\u001b[39m\u001b[39mtype\u001b[39m\u001b[39m'\u001b[39m]\n\u001b[1;32m    264\u001b[0m handler \u001b[39m=\u001b[39m \u001b[39mgetattr\u001b[39m(\u001b[39mself\u001b[39m, \u001b[39m'\u001b[39m\u001b[39mhandle_\u001b[39m\u001b[39m{0}\u001b[39;00m\u001b[39m'\u001b[39m\u001b[39m.\u001b[39mformat(e_type),\n\u001b[1;32m    265\u001b[0m                   \u001b[39mself\u001b[39m\u001b[39m.\u001b[39mhandle_unknown_event)\n\u001b[0;32m--> 266\u001b[0m \u001b[39mreturn\u001b[39;00m handler(event)\n",
      "File \u001b[0;32m~/.local/lib/python3.8/site-packages/matplotlib/backends/backend_webagg_core.py:282\u001b[0m, in \u001b[0;36mFigureCanvasWebAggCore.handle_draw\u001b[0;34m(self, event)\u001b[0m\n\u001b[1;32m    281\u001b[0m \u001b[39mdef\u001b[39;00m \u001b[39mhandle_draw\u001b[39m(\u001b[39mself\u001b[39m, event):\n\u001b[0;32m--> 282\u001b[0m     \u001b[39mself\u001b[39;49m\u001b[39m.\u001b[39;49mdraw()\n",
      "File \u001b[0;32m~/.local/lib/python3.8/site-packages/matplotlib/backends/backend_webagg_core.py:191\u001b[0m, in \u001b[0;36mFigureCanvasWebAggCore.draw\u001b[0;34m(self)\u001b[0m\n\u001b[1;32m    189\u001b[0m \u001b[39mself\u001b[39m\u001b[39m.\u001b[39m_png_is_old \u001b[39m=\u001b[39m \u001b[39mTrue\u001b[39;00m\n\u001b[1;32m    190\u001b[0m \u001b[39mtry\u001b[39;00m:\n\u001b[0;32m--> 191\u001b[0m     \u001b[39msuper\u001b[39;49m()\u001b[39m.\u001b[39;49mdraw()\n\u001b[1;32m    192\u001b[0m \u001b[39mfinally\u001b[39;00m:\n\u001b[1;32m    193\u001b[0m     \u001b[39mself\u001b[39m\u001b[39m.\u001b[39mmanager\u001b[39m.\u001b[39mrefresh_all()\n",
      "File \u001b[0;32m~/.local/lib/python3.8/site-packages/matplotlib/backends/backend_agg.py:400\u001b[0m, in \u001b[0;36mFigureCanvasAgg.draw\u001b[0;34m(self)\u001b[0m\n\u001b[1;32m    396\u001b[0m \u001b[39m# Acquire a lock on the shared font cache.\u001b[39;00m\n\u001b[1;32m    397\u001b[0m \u001b[39mwith\u001b[39;00m RendererAgg\u001b[39m.\u001b[39mlock, \\\n\u001b[1;32m    398\u001b[0m      (\u001b[39mself\u001b[39m\u001b[39m.\u001b[39mtoolbar\u001b[39m.\u001b[39m_wait_cursor_for_draw_cm() \u001b[39mif\u001b[39;00m \u001b[39mself\u001b[39m\u001b[39m.\u001b[39mtoolbar\n\u001b[1;32m    399\u001b[0m       \u001b[39melse\u001b[39;00m nullcontext()):\n\u001b[0;32m--> 400\u001b[0m     \u001b[39mself\u001b[39;49m\u001b[39m.\u001b[39;49mfigure\u001b[39m.\u001b[39;49mdraw(\u001b[39mself\u001b[39;49m\u001b[39m.\u001b[39;49mrenderer)\n\u001b[1;32m    401\u001b[0m     \u001b[39m# A GUI class may be need to update a window using this draw, so\u001b[39;00m\n\u001b[1;32m    402\u001b[0m     \u001b[39m# don't forget to call the superclass.\u001b[39;00m\n\u001b[1;32m    403\u001b[0m     \u001b[39msuper\u001b[39m()\u001b[39m.\u001b[39mdraw()\n",
      "File \u001b[0;32m~/.local/lib/python3.8/site-packages/matplotlib/artist.py:95\u001b[0m, in \u001b[0;36m_finalize_rasterization.<locals>.draw_wrapper\u001b[0;34m(artist, renderer, *args, **kwargs)\u001b[0m\n\u001b[1;32m     93\u001b[0m \u001b[39m@wraps\u001b[39m(draw)\n\u001b[1;32m     94\u001b[0m \u001b[39mdef\u001b[39;00m \u001b[39mdraw_wrapper\u001b[39m(artist, renderer, \u001b[39m*\u001b[39margs, \u001b[39m*\u001b[39m\u001b[39m*\u001b[39mkwargs):\n\u001b[0;32m---> 95\u001b[0m     result \u001b[39m=\u001b[39m draw(artist, renderer, \u001b[39m*\u001b[39;49margs, \u001b[39m*\u001b[39;49m\u001b[39m*\u001b[39;49mkwargs)\n\u001b[1;32m     96\u001b[0m     \u001b[39mif\u001b[39;00m renderer\u001b[39m.\u001b[39m_rasterizing:\n\u001b[1;32m     97\u001b[0m         renderer\u001b[39m.\u001b[39mstop_rasterizing()\n",
      "File \u001b[0;32m~/.local/lib/python3.8/site-packages/matplotlib/artist.py:72\u001b[0m, in \u001b[0;36mallow_rasterization.<locals>.draw_wrapper\u001b[0;34m(artist, renderer)\u001b[0m\n\u001b[1;32m     69\u001b[0m     \u001b[39mif\u001b[39;00m artist\u001b[39m.\u001b[39mget_agg_filter() \u001b[39mis\u001b[39;00m \u001b[39mnot\u001b[39;00m \u001b[39mNone\u001b[39;00m:\n\u001b[1;32m     70\u001b[0m         renderer\u001b[39m.\u001b[39mstart_filter()\n\u001b[0;32m---> 72\u001b[0m     \u001b[39mreturn\u001b[39;00m draw(artist, renderer)\n\u001b[1;32m     73\u001b[0m \u001b[39mfinally\u001b[39;00m:\n\u001b[1;32m     74\u001b[0m     \u001b[39mif\u001b[39;00m artist\u001b[39m.\u001b[39mget_agg_filter() \u001b[39mis\u001b[39;00m \u001b[39mnot\u001b[39;00m \u001b[39mNone\u001b[39;00m:\n",
      "File \u001b[0;32m~/.local/lib/python3.8/site-packages/matplotlib/figure.py:3140\u001b[0m, in \u001b[0;36mFigure.draw\u001b[0;34m(self, renderer)\u001b[0m\n\u001b[1;32m   3137\u001b[0m         \u001b[39m# ValueError can occur when resizing a window.\u001b[39;00m\n\u001b[1;32m   3139\u001b[0m \u001b[39mself\u001b[39m\u001b[39m.\u001b[39mpatch\u001b[39m.\u001b[39mdraw(renderer)\n\u001b[0;32m-> 3140\u001b[0m mimage\u001b[39m.\u001b[39;49m_draw_list_compositing_images(\n\u001b[1;32m   3141\u001b[0m     renderer, \u001b[39mself\u001b[39;49m, artists, \u001b[39mself\u001b[39;49m\u001b[39m.\u001b[39;49msuppressComposite)\n\u001b[1;32m   3143\u001b[0m \u001b[39mfor\u001b[39;00m sfig \u001b[39min\u001b[39;00m \u001b[39mself\u001b[39m\u001b[39m.\u001b[39msubfigs:\n\u001b[1;32m   3144\u001b[0m     sfig\u001b[39m.\u001b[39mdraw(renderer)\n",
      "File \u001b[0;32m~/.local/lib/python3.8/site-packages/matplotlib/image.py:131\u001b[0m, in \u001b[0;36m_draw_list_compositing_images\u001b[0;34m(renderer, parent, artists, suppress_composite)\u001b[0m\n\u001b[1;32m    129\u001b[0m \u001b[39mif\u001b[39;00m not_composite \u001b[39mor\u001b[39;00m \u001b[39mnot\u001b[39;00m has_images:\n\u001b[1;32m    130\u001b[0m     \u001b[39mfor\u001b[39;00m a \u001b[39min\u001b[39;00m artists:\n\u001b[0;32m--> 131\u001b[0m         a\u001b[39m.\u001b[39;49mdraw(renderer)\n\u001b[1;32m    132\u001b[0m \u001b[39melse\u001b[39;00m:\n\u001b[1;32m    133\u001b[0m     \u001b[39m# Composite any adjacent images together\u001b[39;00m\n\u001b[1;32m    134\u001b[0m     image_group \u001b[39m=\u001b[39m []\n",
      "File \u001b[0;32m~/.local/lib/python3.8/site-packages/matplotlib/artist.py:72\u001b[0m, in \u001b[0;36mallow_rasterization.<locals>.draw_wrapper\u001b[0;34m(artist, renderer)\u001b[0m\n\u001b[1;32m     69\u001b[0m     \u001b[39mif\u001b[39;00m artist\u001b[39m.\u001b[39mget_agg_filter() \u001b[39mis\u001b[39;00m \u001b[39mnot\u001b[39;00m \u001b[39mNone\u001b[39;00m:\n\u001b[1;32m     70\u001b[0m         renderer\u001b[39m.\u001b[39mstart_filter()\n\u001b[0;32m---> 72\u001b[0m     \u001b[39mreturn\u001b[39;00m draw(artist, renderer)\n\u001b[1;32m     73\u001b[0m \u001b[39mfinally\u001b[39;00m:\n\u001b[1;32m     74\u001b[0m     \u001b[39mif\u001b[39;00m artist\u001b[39m.\u001b[39mget_agg_filter() \u001b[39mis\u001b[39;00m \u001b[39mnot\u001b[39;00m \u001b[39mNone\u001b[39;00m:\n",
      "File \u001b[0;32m~/.local/lib/python3.8/site-packages/matplotlib/axes/_base.py:3028\u001b[0m, in \u001b[0;36m_AxesBase.draw\u001b[0;34m(self, renderer)\u001b[0m\n\u001b[1;32m   3025\u001b[0m     \u001b[39mfor\u001b[39;00m spine \u001b[39min\u001b[39;00m \u001b[39mself\u001b[39m\u001b[39m.\u001b[39mspines\u001b[39m.\u001b[39mvalues():\n\u001b[1;32m   3026\u001b[0m         artists\u001b[39m.\u001b[39mremove(spine)\n\u001b[0;32m-> 3028\u001b[0m \u001b[39mself\u001b[39;49m\u001b[39m.\u001b[39;49m_update_title_position(renderer)\n\u001b[1;32m   3030\u001b[0m \u001b[39mif\u001b[39;00m \u001b[39mnot\u001b[39;00m \u001b[39mself\u001b[39m\u001b[39m.\u001b[39maxison:\n\u001b[1;32m   3031\u001b[0m     \u001b[39mfor\u001b[39;00m _axis \u001b[39min\u001b[39;00m \u001b[39mself\u001b[39m\u001b[39m.\u001b[39m_axis_map\u001b[39m.\u001b[39mvalues():\n",
      "File \u001b[0;32m~/.local/lib/python3.8/site-packages/matplotlib/axes/_base.py:2961\u001b[0m, in \u001b[0;36m_AxesBase._update_title_position\u001b[0;34m(self, renderer)\u001b[0m\n\u001b[1;32m   2959\u001b[0m \u001b[39mfor\u001b[39;00m ax \u001b[39min\u001b[39;00m axs:\n\u001b[1;32m   2960\u001b[0m     bb \u001b[39m=\u001b[39m \u001b[39mNone\u001b[39;00m\n\u001b[0;32m-> 2961\u001b[0m     \u001b[39mif\u001b[39;00m (ax\u001b[39m.\u001b[39;49mxaxis\u001b[39m.\u001b[39;49mget_ticks_position() \u001b[39min\u001b[39;00m [\u001b[39m'\u001b[39m\u001b[39mtop\u001b[39m\u001b[39m'\u001b[39m, \u001b[39m'\u001b[39m\u001b[39munknown\u001b[39m\u001b[39m'\u001b[39m]\n\u001b[1;32m   2962\u001b[0m             \u001b[39mor\u001b[39;00m ax\u001b[39m.\u001b[39mxaxis\u001b[39m.\u001b[39mget_label_position() \u001b[39m==\u001b[39m \u001b[39m'\u001b[39m\u001b[39mtop\u001b[39m\u001b[39m'\u001b[39m):\n\u001b[1;32m   2963\u001b[0m         bb \u001b[39m=\u001b[39m ax\u001b[39m.\u001b[39mxaxis\u001b[39m.\u001b[39mget_tightbbox(renderer)\n\u001b[1;32m   2964\u001b[0m     \u001b[39mif\u001b[39;00m bb \u001b[39mis\u001b[39;00m \u001b[39mNone\u001b[39;00m:\n",
      "File \u001b[0;32m~/.local/lib/python3.8/site-packages/matplotlib/axis.py:2451\u001b[0m, in \u001b[0;36mXAxis.get_ticks_position\u001b[0;34m(self)\u001b[0m\n\u001b[1;32m   2445\u001b[0m \u001b[39mdef\u001b[39;00m \u001b[39mget_ticks_position\u001b[39m(\u001b[39mself\u001b[39m):\n\u001b[1;32m   2446\u001b[0m \u001b[39m    \u001b[39m\u001b[39m\"\"\"\u001b[39;00m\n\u001b[1;32m   2447\u001b[0m \u001b[39m    Return the ticks position (\"top\", \"bottom\", \"default\", or \"unknown\").\u001b[39;00m\n\u001b[1;32m   2448\u001b[0m \u001b[39m    \"\"\"\u001b[39;00m\n\u001b[1;32m   2449\u001b[0m     \u001b[39mreturn\u001b[39;00m {\u001b[39m1\u001b[39m: \u001b[39m\"\u001b[39m\u001b[39mbottom\u001b[39m\u001b[39m\"\u001b[39m, \u001b[39m2\u001b[39m: \u001b[39m\"\u001b[39m\u001b[39mtop\u001b[39m\u001b[39m\"\u001b[39m,\n\u001b[1;32m   2450\u001b[0m             \u001b[39m\"\u001b[39m\u001b[39mdefault\u001b[39m\u001b[39m\"\u001b[39m: \u001b[39m\"\u001b[39m\u001b[39mdefault\u001b[39m\u001b[39m\"\u001b[39m, \u001b[39m\"\u001b[39m\u001b[39munknown\u001b[39m\u001b[39m\"\u001b[39m: \u001b[39m\"\u001b[39m\u001b[39munknown\u001b[39m\u001b[39m\"\u001b[39m}[\n\u001b[0;32m-> 2451\u001b[0m                 \u001b[39mself\u001b[39;49m\u001b[39m.\u001b[39;49m_get_ticks_position()]\n",
      "File \u001b[0;32m~/.local/lib/python3.8/site-packages/matplotlib/axis.py:2156\u001b[0m, in \u001b[0;36mAxis._get_ticks_position\u001b[0;34m(self)\u001b[0m\n\u001b[1;32m   2142\u001b[0m \u001b[39m\u001b[39m\u001b[39m\"\"\"\u001b[39;00m\n\u001b[1;32m   2143\u001b[0m \u001b[39mHelper for `XAxis.get_ticks_position` and `YAxis.get_ticks_position`.\u001b[39;00m\n\u001b[1;32m   2144\u001b[0m \n\u001b[0;32m   (...)\u001b[0m\n\u001b[1;32m   2153\u001b[0m \u001b[39m- \"unknown\" otherwise.\u001b[39;00m\n\u001b[1;32m   2154\u001b[0m \u001b[39m\"\"\"\u001b[39;00m\n\u001b[1;32m   2155\u001b[0m major \u001b[39m=\u001b[39m \u001b[39mself\u001b[39m\u001b[39m.\u001b[39mmajorTicks[\u001b[39m0\u001b[39m]\n\u001b[0;32m-> 2156\u001b[0m minor \u001b[39m=\u001b[39m \u001b[39mself\u001b[39;49m\u001b[39m.\u001b[39;49mminorTicks[\u001b[39m0\u001b[39;49m]\n\u001b[1;32m   2157\u001b[0m \u001b[39mif\u001b[39;00m \u001b[39mall\u001b[39m(tick\u001b[39m.\u001b[39mtick1line\u001b[39m.\u001b[39mget_visible()\n\u001b[1;32m   2158\u001b[0m        \u001b[39mand\u001b[39;00m \u001b[39mnot\u001b[39;00m tick\u001b[39m.\u001b[39mtick2line\u001b[39m.\u001b[39mget_visible()\n\u001b[1;32m   2159\u001b[0m        \u001b[39mand\u001b[39;00m tick\u001b[39m.\u001b[39mlabel1\u001b[39m.\u001b[39mget_visible()\n\u001b[1;32m   2160\u001b[0m        \u001b[39mand\u001b[39;00m \u001b[39mnot\u001b[39;00m tick\u001b[39m.\u001b[39mlabel2\u001b[39m.\u001b[39mget_visible()\n\u001b[1;32m   2161\u001b[0m        \u001b[39mfor\u001b[39;00m tick \u001b[39min\u001b[39;00m [major, minor]):\n\u001b[1;32m   2162\u001b[0m     \u001b[39mreturn\u001b[39;00m \u001b[39m1\u001b[39m\n",
      "\u001b[0;31mIndexError\u001b[0m: list index out of range"
     ]
    },
    {
     "name": "stderr",
     "output_type": "stream",
     "text": [
      "Exception in thread Thread-21:\n",
      "Traceback (most recent call last):\n",
      "  File \"/usr/lib/python3.8/threading.py\", line 932, in _bootstrap_inner\n",
      "    self.run()\n",
      "  File \"/usr/lib/python3.8/threading.py\", line 870, in run\n",
      "    self._target(*self._args, **self._kwargs)\n",
      "  File \"/tmp/ipykernel_24633/1664460444.py\", line 4, in update_position\n",
      "  File \"/tmp/ipykernel_24633/4048146058.py\", line 15, in update_graph\n",
      "  File \"/home/lucas/.local/lib/python3.8/site-packages/matplotlib/axes/_axes.py\", line 1688, in plot\n",
      "    lines = [*self._get_lines(*args, data=data, **kwargs)]\n",
      "  File \"/home/lucas/.local/lib/python3.8/site-packages/matplotlib/axes/_base.py\", line 311, in __call__\n",
      "    yield from self._plot_args(\n",
      "  File \"/home/lucas/.local/lib/python3.8/site-packages/matplotlib/axes/_base.py\", line 504, in _plot_args\n",
      "    raise ValueError(f\"x and y must have same first dimension, but \"\n",
      "ValueError: x and y must have same first dimension, but have shapes (192,) and (193,)\n"
     ]
    },
    {
     "ename": "IndexError",
     "evalue": "list index out of range",
     "output_type": "error",
     "traceback": [
      "\u001b[0;31m---------------------------------------------------------------------------\u001b[0m",
      "\u001b[0;31mIndexError\u001b[0m                                Traceback (most recent call last)",
      "File \u001b[0;32m~/.local/lib/python3.8/site-packages/ipympl/backend_nbagg.py:279\u001b[0m, in \u001b[0;36mCanvas._handle_message\u001b[0;34m(self, object, content, buffers)\u001b[0m\n\u001b[1;32m    276\u001b[0m     \u001b[39mself\u001b[39m\u001b[39m.\u001b[39mmanager\u001b[39m.\u001b[39mhandle_json(content)\n\u001b[1;32m    278\u001b[0m \u001b[39melse\u001b[39;00m:\n\u001b[0;32m--> 279\u001b[0m     \u001b[39mself\u001b[39;49m\u001b[39m.\u001b[39;49mmanager\u001b[39m.\u001b[39;49mhandle_json(content)\n",
      "File \u001b[0;32m~/.local/lib/python3.8/site-packages/matplotlib/backends/backend_webagg_core.py:462\u001b[0m, in \u001b[0;36mFigureManagerWebAgg.handle_json\u001b[0;34m(self, content)\u001b[0m\n\u001b[1;32m    461\u001b[0m \u001b[39mdef\u001b[39;00m \u001b[39mhandle_json\u001b[39m(\u001b[39mself\u001b[39m, content):\n\u001b[0;32m--> 462\u001b[0m     \u001b[39mself\u001b[39;49m\u001b[39m.\u001b[39;49mcanvas\u001b[39m.\u001b[39;49mhandle_event(content)\n",
      "File \u001b[0;32m~/.local/lib/python3.8/site-packages/matplotlib/backends/backend_webagg_core.py:266\u001b[0m, in \u001b[0;36mFigureCanvasWebAggCore.handle_event\u001b[0;34m(self, event)\u001b[0m\n\u001b[1;32m    263\u001b[0m e_type \u001b[39m=\u001b[39m event[\u001b[39m'\u001b[39m\u001b[39mtype\u001b[39m\u001b[39m'\u001b[39m]\n\u001b[1;32m    264\u001b[0m handler \u001b[39m=\u001b[39m \u001b[39mgetattr\u001b[39m(\u001b[39mself\u001b[39m, \u001b[39m'\u001b[39m\u001b[39mhandle_\u001b[39m\u001b[39m{0}\u001b[39;00m\u001b[39m'\u001b[39m\u001b[39m.\u001b[39mformat(e_type),\n\u001b[1;32m    265\u001b[0m                   \u001b[39mself\u001b[39m\u001b[39m.\u001b[39mhandle_unknown_event)\n\u001b[0;32m--> 266\u001b[0m \u001b[39mreturn\u001b[39;00m handler(event)\n",
      "File \u001b[0;32m~/.local/lib/python3.8/site-packages/matplotlib/backends/backend_webagg_core.py:282\u001b[0m, in \u001b[0;36mFigureCanvasWebAggCore.handle_draw\u001b[0;34m(self, event)\u001b[0m\n\u001b[1;32m    281\u001b[0m \u001b[39mdef\u001b[39;00m \u001b[39mhandle_draw\u001b[39m(\u001b[39mself\u001b[39m, event):\n\u001b[0;32m--> 282\u001b[0m     \u001b[39mself\u001b[39;49m\u001b[39m.\u001b[39;49mdraw()\n",
      "File \u001b[0;32m~/.local/lib/python3.8/site-packages/matplotlib/backends/backend_webagg_core.py:191\u001b[0m, in \u001b[0;36mFigureCanvasWebAggCore.draw\u001b[0;34m(self)\u001b[0m\n\u001b[1;32m    189\u001b[0m \u001b[39mself\u001b[39m\u001b[39m.\u001b[39m_png_is_old \u001b[39m=\u001b[39m \u001b[39mTrue\u001b[39;00m\n\u001b[1;32m    190\u001b[0m \u001b[39mtry\u001b[39;00m:\n\u001b[0;32m--> 191\u001b[0m     \u001b[39msuper\u001b[39;49m()\u001b[39m.\u001b[39;49mdraw()\n\u001b[1;32m    192\u001b[0m \u001b[39mfinally\u001b[39;00m:\n\u001b[1;32m    193\u001b[0m     \u001b[39mself\u001b[39m\u001b[39m.\u001b[39mmanager\u001b[39m.\u001b[39mrefresh_all()\n",
      "File \u001b[0;32m~/.local/lib/python3.8/site-packages/matplotlib/backends/backend_agg.py:400\u001b[0m, in \u001b[0;36mFigureCanvasAgg.draw\u001b[0;34m(self)\u001b[0m\n\u001b[1;32m    396\u001b[0m \u001b[39m# Acquire a lock on the shared font cache.\u001b[39;00m\n\u001b[1;32m    397\u001b[0m \u001b[39mwith\u001b[39;00m RendererAgg\u001b[39m.\u001b[39mlock, \\\n\u001b[1;32m    398\u001b[0m      (\u001b[39mself\u001b[39m\u001b[39m.\u001b[39mtoolbar\u001b[39m.\u001b[39m_wait_cursor_for_draw_cm() \u001b[39mif\u001b[39;00m \u001b[39mself\u001b[39m\u001b[39m.\u001b[39mtoolbar\n\u001b[1;32m    399\u001b[0m       \u001b[39melse\u001b[39;00m nullcontext()):\n\u001b[0;32m--> 400\u001b[0m     \u001b[39mself\u001b[39;49m\u001b[39m.\u001b[39;49mfigure\u001b[39m.\u001b[39;49mdraw(\u001b[39mself\u001b[39;49m\u001b[39m.\u001b[39;49mrenderer)\n\u001b[1;32m    401\u001b[0m     \u001b[39m# A GUI class may be need to update a window using this draw, so\u001b[39;00m\n\u001b[1;32m    402\u001b[0m     \u001b[39m# don't forget to call the superclass.\u001b[39;00m\n\u001b[1;32m    403\u001b[0m     \u001b[39msuper\u001b[39m()\u001b[39m.\u001b[39mdraw()\n",
      "File \u001b[0;32m~/.local/lib/python3.8/site-packages/matplotlib/artist.py:95\u001b[0m, in \u001b[0;36m_finalize_rasterization.<locals>.draw_wrapper\u001b[0;34m(artist, renderer, *args, **kwargs)\u001b[0m\n\u001b[1;32m     93\u001b[0m \u001b[39m@wraps\u001b[39m(draw)\n\u001b[1;32m     94\u001b[0m \u001b[39mdef\u001b[39;00m \u001b[39mdraw_wrapper\u001b[39m(artist, renderer, \u001b[39m*\u001b[39margs, \u001b[39m*\u001b[39m\u001b[39m*\u001b[39mkwargs):\n\u001b[0;32m---> 95\u001b[0m     result \u001b[39m=\u001b[39m draw(artist, renderer, \u001b[39m*\u001b[39;49margs, \u001b[39m*\u001b[39;49m\u001b[39m*\u001b[39;49mkwargs)\n\u001b[1;32m     96\u001b[0m     \u001b[39mif\u001b[39;00m renderer\u001b[39m.\u001b[39m_rasterizing:\n\u001b[1;32m     97\u001b[0m         renderer\u001b[39m.\u001b[39mstop_rasterizing()\n",
      "File \u001b[0;32m~/.local/lib/python3.8/site-packages/matplotlib/artist.py:72\u001b[0m, in \u001b[0;36mallow_rasterization.<locals>.draw_wrapper\u001b[0;34m(artist, renderer)\u001b[0m\n\u001b[1;32m     69\u001b[0m     \u001b[39mif\u001b[39;00m artist\u001b[39m.\u001b[39mget_agg_filter() \u001b[39mis\u001b[39;00m \u001b[39mnot\u001b[39;00m \u001b[39mNone\u001b[39;00m:\n\u001b[1;32m     70\u001b[0m         renderer\u001b[39m.\u001b[39mstart_filter()\n\u001b[0;32m---> 72\u001b[0m     \u001b[39mreturn\u001b[39;00m draw(artist, renderer)\n\u001b[1;32m     73\u001b[0m \u001b[39mfinally\u001b[39;00m:\n\u001b[1;32m     74\u001b[0m     \u001b[39mif\u001b[39;00m artist\u001b[39m.\u001b[39mget_agg_filter() \u001b[39mis\u001b[39;00m \u001b[39mnot\u001b[39;00m \u001b[39mNone\u001b[39;00m:\n",
      "File \u001b[0;32m~/.local/lib/python3.8/site-packages/matplotlib/figure.py:3140\u001b[0m, in \u001b[0;36mFigure.draw\u001b[0;34m(self, renderer)\u001b[0m\n\u001b[1;32m   3137\u001b[0m         \u001b[39m# ValueError can occur when resizing a window.\u001b[39;00m\n\u001b[1;32m   3139\u001b[0m \u001b[39mself\u001b[39m\u001b[39m.\u001b[39mpatch\u001b[39m.\u001b[39mdraw(renderer)\n\u001b[0;32m-> 3140\u001b[0m mimage\u001b[39m.\u001b[39;49m_draw_list_compositing_images(\n\u001b[1;32m   3141\u001b[0m     renderer, \u001b[39mself\u001b[39;49m, artists, \u001b[39mself\u001b[39;49m\u001b[39m.\u001b[39;49msuppressComposite)\n\u001b[1;32m   3143\u001b[0m \u001b[39mfor\u001b[39;00m sfig \u001b[39min\u001b[39;00m \u001b[39mself\u001b[39m\u001b[39m.\u001b[39msubfigs:\n\u001b[1;32m   3144\u001b[0m     sfig\u001b[39m.\u001b[39mdraw(renderer)\n",
      "File \u001b[0;32m~/.local/lib/python3.8/site-packages/matplotlib/image.py:131\u001b[0m, in \u001b[0;36m_draw_list_compositing_images\u001b[0;34m(renderer, parent, artists, suppress_composite)\u001b[0m\n\u001b[1;32m    129\u001b[0m \u001b[39mif\u001b[39;00m not_composite \u001b[39mor\u001b[39;00m \u001b[39mnot\u001b[39;00m has_images:\n\u001b[1;32m    130\u001b[0m     \u001b[39mfor\u001b[39;00m a \u001b[39min\u001b[39;00m artists:\n\u001b[0;32m--> 131\u001b[0m         a\u001b[39m.\u001b[39;49mdraw(renderer)\n\u001b[1;32m    132\u001b[0m \u001b[39melse\u001b[39;00m:\n\u001b[1;32m    133\u001b[0m     \u001b[39m# Composite any adjacent images together\u001b[39;00m\n\u001b[1;32m    134\u001b[0m     image_group \u001b[39m=\u001b[39m []\n",
      "File \u001b[0;32m~/.local/lib/python3.8/site-packages/matplotlib/artist.py:72\u001b[0m, in \u001b[0;36mallow_rasterization.<locals>.draw_wrapper\u001b[0;34m(artist, renderer)\u001b[0m\n\u001b[1;32m     69\u001b[0m     \u001b[39mif\u001b[39;00m artist\u001b[39m.\u001b[39mget_agg_filter() \u001b[39mis\u001b[39;00m \u001b[39mnot\u001b[39;00m \u001b[39mNone\u001b[39;00m:\n\u001b[1;32m     70\u001b[0m         renderer\u001b[39m.\u001b[39mstart_filter()\n\u001b[0;32m---> 72\u001b[0m     \u001b[39mreturn\u001b[39;00m draw(artist, renderer)\n\u001b[1;32m     73\u001b[0m \u001b[39mfinally\u001b[39;00m:\n\u001b[1;32m     74\u001b[0m     \u001b[39mif\u001b[39;00m artist\u001b[39m.\u001b[39mget_agg_filter() \u001b[39mis\u001b[39;00m \u001b[39mnot\u001b[39;00m \u001b[39mNone\u001b[39;00m:\n",
      "File \u001b[0;32m~/.local/lib/python3.8/site-packages/matplotlib/axes/_base.py:3028\u001b[0m, in \u001b[0;36m_AxesBase.draw\u001b[0;34m(self, renderer)\u001b[0m\n\u001b[1;32m   3025\u001b[0m     \u001b[39mfor\u001b[39;00m spine \u001b[39min\u001b[39;00m \u001b[39mself\u001b[39m\u001b[39m.\u001b[39mspines\u001b[39m.\u001b[39mvalues():\n\u001b[1;32m   3026\u001b[0m         artists\u001b[39m.\u001b[39mremove(spine)\n\u001b[0;32m-> 3028\u001b[0m \u001b[39mself\u001b[39;49m\u001b[39m.\u001b[39;49m_update_title_position(renderer)\n\u001b[1;32m   3030\u001b[0m \u001b[39mif\u001b[39;00m \u001b[39mnot\u001b[39;00m \u001b[39mself\u001b[39m\u001b[39m.\u001b[39maxison:\n\u001b[1;32m   3031\u001b[0m     \u001b[39mfor\u001b[39;00m _axis \u001b[39min\u001b[39;00m \u001b[39mself\u001b[39m\u001b[39m.\u001b[39m_axis_map\u001b[39m.\u001b[39mvalues():\n",
      "File \u001b[0;32m~/.local/lib/python3.8/site-packages/matplotlib/axes/_base.py:2961\u001b[0m, in \u001b[0;36m_AxesBase._update_title_position\u001b[0;34m(self, renderer)\u001b[0m\n\u001b[1;32m   2959\u001b[0m \u001b[39mfor\u001b[39;00m ax \u001b[39min\u001b[39;00m axs:\n\u001b[1;32m   2960\u001b[0m     bb \u001b[39m=\u001b[39m \u001b[39mNone\u001b[39;00m\n\u001b[0;32m-> 2961\u001b[0m     \u001b[39mif\u001b[39;00m (ax\u001b[39m.\u001b[39;49mxaxis\u001b[39m.\u001b[39;49mget_ticks_position() \u001b[39min\u001b[39;00m [\u001b[39m'\u001b[39m\u001b[39mtop\u001b[39m\u001b[39m'\u001b[39m, \u001b[39m'\u001b[39m\u001b[39munknown\u001b[39m\u001b[39m'\u001b[39m]\n\u001b[1;32m   2962\u001b[0m             \u001b[39mor\u001b[39;00m ax\u001b[39m.\u001b[39mxaxis\u001b[39m.\u001b[39mget_label_position() \u001b[39m==\u001b[39m \u001b[39m'\u001b[39m\u001b[39mtop\u001b[39m\u001b[39m'\u001b[39m):\n\u001b[1;32m   2963\u001b[0m         bb \u001b[39m=\u001b[39m ax\u001b[39m.\u001b[39mxaxis\u001b[39m.\u001b[39mget_tightbbox(renderer)\n\u001b[1;32m   2964\u001b[0m     \u001b[39mif\u001b[39;00m bb \u001b[39mis\u001b[39;00m \u001b[39mNone\u001b[39;00m:\n",
      "File \u001b[0;32m~/.local/lib/python3.8/site-packages/matplotlib/axis.py:2451\u001b[0m, in \u001b[0;36mXAxis.get_ticks_position\u001b[0;34m(self)\u001b[0m\n\u001b[1;32m   2445\u001b[0m \u001b[39mdef\u001b[39;00m \u001b[39mget_ticks_position\u001b[39m(\u001b[39mself\u001b[39m):\n\u001b[1;32m   2446\u001b[0m \u001b[39m    \u001b[39m\u001b[39m\"\"\"\u001b[39;00m\n\u001b[1;32m   2447\u001b[0m \u001b[39m    Return the ticks position (\"top\", \"bottom\", \"default\", or \"unknown\").\u001b[39;00m\n\u001b[1;32m   2448\u001b[0m \u001b[39m    \"\"\"\u001b[39;00m\n\u001b[1;32m   2449\u001b[0m     \u001b[39mreturn\u001b[39;00m {\u001b[39m1\u001b[39m: \u001b[39m\"\u001b[39m\u001b[39mbottom\u001b[39m\u001b[39m\"\u001b[39m, \u001b[39m2\u001b[39m: \u001b[39m\"\u001b[39m\u001b[39mtop\u001b[39m\u001b[39m\"\u001b[39m,\n\u001b[1;32m   2450\u001b[0m             \u001b[39m\"\u001b[39m\u001b[39mdefault\u001b[39m\u001b[39m\"\u001b[39m: \u001b[39m\"\u001b[39m\u001b[39mdefault\u001b[39m\u001b[39m\"\u001b[39m, \u001b[39m\"\u001b[39m\u001b[39munknown\u001b[39m\u001b[39m\"\u001b[39m: \u001b[39m\"\u001b[39m\u001b[39munknown\u001b[39m\u001b[39m\"\u001b[39m}[\n\u001b[0;32m-> 2451\u001b[0m                 \u001b[39mself\u001b[39;49m\u001b[39m.\u001b[39;49m_get_ticks_position()]\n",
      "File \u001b[0;32m~/.local/lib/python3.8/site-packages/matplotlib/axis.py:2155\u001b[0m, in \u001b[0;36mAxis._get_ticks_position\u001b[0;34m(self)\u001b[0m\n\u001b[1;32m   2141\u001b[0m \u001b[39mdef\u001b[39;00m \u001b[39m_get_ticks_position\u001b[39m(\u001b[39mself\u001b[39m):\n\u001b[1;32m   2142\u001b[0m \u001b[39m    \u001b[39m\u001b[39m\"\"\"\u001b[39;00m\n\u001b[1;32m   2143\u001b[0m \u001b[39m    Helper for `XAxis.get_ticks_position` and `YAxis.get_ticks_position`.\u001b[39;00m\n\u001b[1;32m   2144\u001b[0m \n\u001b[0;32m   (...)\u001b[0m\n\u001b[1;32m   2153\u001b[0m \u001b[39m    - \"unknown\" otherwise.\u001b[39;00m\n\u001b[1;32m   2154\u001b[0m \u001b[39m    \"\"\"\u001b[39;00m\n\u001b[0;32m-> 2155\u001b[0m     major \u001b[39m=\u001b[39m \u001b[39mself\u001b[39;49m\u001b[39m.\u001b[39;49mmajorTicks[\u001b[39m0\u001b[39;49m]\n\u001b[1;32m   2156\u001b[0m     minor \u001b[39m=\u001b[39m \u001b[39mself\u001b[39m\u001b[39m.\u001b[39mminorTicks[\u001b[39m0\u001b[39m]\n\u001b[1;32m   2157\u001b[0m     \u001b[39mif\u001b[39;00m \u001b[39mall\u001b[39m(tick\u001b[39m.\u001b[39mtick1line\u001b[39m.\u001b[39mget_visible()\n\u001b[1;32m   2158\u001b[0m            \u001b[39mand\u001b[39;00m \u001b[39mnot\u001b[39;00m tick\u001b[39m.\u001b[39mtick2line\u001b[39m.\u001b[39mget_visible()\n\u001b[1;32m   2159\u001b[0m            \u001b[39mand\u001b[39;00m tick\u001b[39m.\u001b[39mlabel1\u001b[39m.\u001b[39mget_visible()\n\u001b[1;32m   2160\u001b[0m            \u001b[39mand\u001b[39;00m \u001b[39mnot\u001b[39;00m tick\u001b[39m.\u001b[39mlabel2\u001b[39m.\u001b[39mget_visible()\n\u001b[1;32m   2161\u001b[0m            \u001b[39mfor\u001b[39;00m tick \u001b[39min\u001b[39;00m [major, minor]):\n",
      "\u001b[0;31mIndexError\u001b[0m: list index out of range"
     ]
    }
   ],
   "source": [
    "%matplotlib widget\n",
    "\n",
    "fig, ax = plt.subplots()\n",
    "ax.set_xlim((-9, 9))\n",
    "ax.set_ylim((-9, 9))\n",
    "ax.set_title(\"Robot path\")\n",
    "ax.set_xlabel(\"x\")\n",
    "ax.set_ylabel(\"y\")"
   ]
  },
  {
   "attachments": {},
   "cell_type": "markdown",
   "metadata": {},
   "source": [
    "## Update Functions\n",
    "\n",
    "Start the update functions in different threads."
   ]
  },
  {
   "attachments": {},
   "cell_type": "markdown",
   "metadata": {},
   "source": [
    "### Update Graph"
   ]
  },
  {
   "cell_type": "code",
   "execution_count": 17,
   "metadata": {},
   "outputs": [],
   "source": [
    "def update_graph(x, y):\n",
    "    # Clear graph\n",
    "    ax.clear()\n",
    "    # Configure axis\n",
    "    ax.set_xlim((-9, 9))\n",
    "    ax.set_ylim((-9, 9))\n",
    "    ax.set_title(\"Robot path\")\n",
    "    ax.set_xlabel(\"x\")\n",
    "    ax.set_ylabel(\"y\")\n",
    "    # Plot goal\n",
    "    ax.plot(cont.goal_x, cont.goal_y, \"go\", markersize=10)\n",
    "    # Plot robot\n",
    "    ax.plot(x, y, \"bx\", markersize=10)\n",
    "    # Plot robot path\n",
    "    ax.plot(cont.x_hist, cont.y_hist, \"k\", linewidth=0.8)"
   ]
  },
  {
   "attachments": {},
   "cell_type": "markdown",
   "metadata": {},
   "source": [
    "### Update Position"
   ]
  },
  {
   "cell_type": "code",
   "execution_count": 18,
   "metadata": {},
   "outputs": [],
   "source": [
    "def update_position():\n",
    "    while not rospy.is_shutdown():\n",
    "        x, y = cont.get_position()\n",
    "        update_graph(x, y)\n",
    "        robot_position_display.value = f\"<b>Robot position:</b> ({x:.2f}, {y:.2f})\"\n",
    "        rospy.sleep(0.5)\n",
    "\n",
    "thread = Thread(target=update_position)\n",
    "thread.start()"
   ]
  },
  {
   "attachments": {},
   "cell_type": "markdown",
   "metadata": {},
   "source": [
    "### Update Distance"
   ]
  },
  {
   "cell_type": "code",
   "execution_count": 19,
   "metadata": {},
   "outputs": [],
   "source": [
    "def update_distance():\n",
    "    while not rospy.is_shutdown():\n",
    "        d = cont.get_dist()\n",
    "        distance_display.value = f\"<b>Distance to goal:</b> {d:.2f}\"\n",
    "        rospy.sleep(0.5)\n",
    "\n",
    "thread = Thread(target=update_distance)\n",
    "thread.start()"
   ]
  },
  {
   "attachments": {},
   "cell_type": "markdown",
   "metadata": {},
   "source": [
    "### Update Goals"
   ]
  },
  {
   "cell_type": "code",
   "execution_count": 20,
   "metadata": {},
   "outputs": [],
   "source": [
    "def update_goals():\n",
    "    while not rospy.is_shutdown():\n",
    "        gr, gc = cont.get_goals()\n",
    "        gr_display.value = f\"<b>Number of goals reached:</b> {gr:.2f}\"\n",
    "        gc_display.value = f\"<b>Number of goals cancelled:</b> {gc:.2f}\"\n",
    "        rospy.sleep(0.5)\n",
    "\n",
    "thread = Thread(target=update_goals)\n",
    "thread.start()"
   ]
  }
 ],
 "metadata": {
  "kernelspec": {
   "display_name": "Python 3 (ipykernel)",
   "language": "python",
   "name": "python3"
  },
  "language_info": {
   "codemirror_mode": {
    "name": "ipython",
    "version": 3
   },
   "file_extension": ".py",
   "mimetype": "text/x-python",
   "name": "python",
   "nbconvert_exporter": "python",
   "pygments_lexer": "ipython3",
   "version": "3.8.10"
  }
 },
 "nbformat": 4,
 "nbformat_minor": 2
}
